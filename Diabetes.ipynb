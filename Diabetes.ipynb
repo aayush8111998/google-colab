{
  "nbformat": 4,
  "nbformat_minor": 0,
  "metadata": {
    "colab": {
      "name": "Diabetes.ipynb",
      "provenance": [],
      "collapsed_sections": []
    },
    "kernelspec": {
      "name": "python3",
      "display_name": "Python 3"
    },
    "language_info": {
      "name": "python"
    }
  },
  "cells": [
    {
      "cell_type": "code",
      "metadata": {
        "colab": {
          "base_uri": "https://localhost:8080/"
        },
        "id": "IMPsdjFt9hMr",
        "outputId": "2096e355-16fe-4766-928a-47c002dd9234"
      },
      "source": [
        "import numpy as np\n",
        "import pandas as pd\n",
        "import matplotlib.pyplot as plt\n",
        "\n",
        "dt= pd.read_csv('diabetes.csv')\n",
        "X= dt.iloc[:, :-1].values\n",
        "Y= dt.iloc[:, 8].values\n",
        "\n",
        "\n",
        "from sklearn.model_selection import train_test_split\n",
        "xt1, xt2, yt1, yt2= train_test_split(X, Y, test_size=0.2, random_state=0)\n",
        "\n",
        "from sklearn.preprocessing import StandardScaler\n",
        "sc= StandardScaler()\n",
        "xt1= sc.fit_transform(xt1)\n",
        "xt2= sc.fit_transform(xt2)\n",
        "#print(xt1)\n",
        "\n",
        "from sklearn.ensemble import RandomForestClassifier\n",
        "classifier= RandomForestClassifier(n_estimators= 27, criterion= 'gini', random_state=0)\n",
        "classifier.fit(xt1, yt1)\n",
        "\n",
        "\n",
        "#print(np.concatenate((y_pred.reshape(len(y_pred),1), yt2.reshape(len(yt2),1)),1))\n",
        "\n",
        "\n",
        "\n",
        "from xgboost import XGBClassifier\n",
        "m= XGBClassifier(n_estimators= 500, early_stopping_rounds=6, learning_rate=0.5)\n",
        "m.fit(xt1, yt1)\n",
        "\n",
        "y_pred= classifier.predict(xt2)\n",
        "\n",
        "from sklearn.metrics import confusion_matrix, accuracy_score, classification_report\n",
        "cm= confusion_matrix(yt2, y_pred)\n",
        "print(cm)\n",
        "accuracy_score(yt2, y_pred)\n",
        "\n",
        "\n"
      ],
      "execution_count": null,
      "outputs": [
        {
          "output_type": "stream",
          "name": "stdout",
          "text": [
            "[[92 15]\n",
            " [14 33]]\n"
          ]
        },
        {
          "output_type": "execute_result",
          "data": {
            "text/plain": [
              "0.8116883116883117"
            ]
          },
          "metadata": {},
          "execution_count": 57
        }
      ]
    }
  ]
}